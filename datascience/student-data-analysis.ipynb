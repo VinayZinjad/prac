{
 "cells": [
  {
   "cell_type": "code",
   "execution_count": 2,
   "metadata": {},
   "outputs": [
    {
     "name": "stdout",
     "output_type": "stream",
     "text": [
      "Shape of the dataset:\n",
      "(1000, 8)\n",
      "\n",
      "Top rows of the dataset:\n",
      "   gender race/ethnicity parental level of education         lunch  \\\n",
      "0  female        group B           bachelor's degree      standard   \n",
      "1  female        group C                some college      standard   \n",
      "2  female        group B             master's degree      standard   \n",
      "3    male        group A          associate's degree  free/reduced   \n",
      "4    male        group C                some college      standard   \n",
      "\n",
      "  test preparation course  math score  reading score  writing score  \n",
      "0                    none          72             72             74  \n",
      "1               completed          69             90             88  \n",
      "2                    none          90             95             93  \n",
      "3                    none          47             57             44  \n",
      "4                    none          76             78             75  \n",
      "\n",
      "Random 5 rows of the dataset:\n",
      "     gender race/ethnicity parental level of education         lunch  \\\n",
      "135    male        group C           bachelor's degree      standard   \n",
      "481  female        group D          associate's degree  free/reduced   \n",
      "676  female        group E                some college      standard   \n",
      "166    male        group C                 high school  free/reduced   \n",
      "878  female        group D            some high school      standard   \n",
      "\n",
      "    test preparation course  math score  reading score  writing score  \n",
      "135                    none          58             55             48  \n",
      "481                    none          52             59             56  \n",
      "676               completed          73             78             76  \n",
      "166               completed          53             51             51  \n",
      "878                    none          59             72             80  \n",
      "\n",
      "Number of columns: 8\n",
      "Column names:\n",
      "['gender', 'race/ethnicity', 'parental level of education', 'lunch', 'test preparation course', 'math score', 'reading score', 'writing score']\n"
     ]
    }
   ],
   "source": [
    "import pandas as pd\n",
    "\n",
    "# Load the dataset from the provided link\n",
    "url = \"https://people.sc.fsu.edu/~jburkardt/data/csv/hw_200.csv\"\n",
    "df = pd.read_csv('./StudentsPerformance.csv')\n",
    "\n",
    "# Display the shape of the dataset\n",
    "print(\"Shape of the dataset:\")\n",
    "print(df.shape)\n",
    "\n",
    "# Display the top rows of the dataset with their columns\n",
    "print(\"\\nTop rows of the dataset:\")\n",
    "print(df.head())\n",
    "\n",
    "# Display a random sample of rows\n",
    "num_random_rows = 5\n",
    "print(f\"\\nRandom {num_random_rows} rows of the dataset:\")\n",
    "print(df.sample(num_random_rows))\n",
    "\n",
    "# Display the number of columns and names of the columns\n",
    "num_columns = df.shape[1]\n",
    "column_names = df.columns.tolist()\n",
    "print(f\"\\nNumber of columns: {num_columns}\")\n",
    "print(\"Column names:\")\n",
    "print(column_names)"
   ]
  }
 ],
 "metadata": {
  "kernelspec": {
   "display_name": "Python 3",
   "language": "python",
   "name": "python3"
  },
  "language_info": {
   "codemirror_mode": {
    "name": "ipython",
    "version": 3
   },
   "file_extension": ".py",
   "mimetype": "text/x-python",
   "name": "python",
   "nbconvert_exporter": "python",
   "pygments_lexer": "ipython3",
   "version": "3.10.8"
  }
 },
 "nbformat": 4,
 "nbformat_minor": 2
}
